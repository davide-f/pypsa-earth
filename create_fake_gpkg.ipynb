{
 "cells": [
  {
   "cell_type": "code",
   "execution_count": 1,
   "metadata": {},
   "outputs": [
    {
     "name": "stdout",
     "output_type": "stream",
     "text": [
      "GeoJSON boundary for BWA (level 0) loaded into memory\n",
      "GeoJSON boundary for BWA (level 1) loaded into memory\n",
      "GPKG file created with combined boundaries at gadm41_BWA.gpkg\n"
     ]
    }
   ],
   "source": [
    "import requests\n",
    "import geopandas as gpd\n",
    "import pandas as pd\n",
    "import json\n",
    "\n",
    "def download_geoboundaries(country_iso, level):\n",
    "    \"\"\"\n",
    "    Download country shapefiles from GeoBoundaries API using a fixed URL template and load into memory.\n",
    "\n",
    "    Parameters:\n",
    "        country_iso (str): The ISO code of the country to download boundaries for.\n",
    "        admin_level (str): The administrative level to download (e.g., \"ADM0\", \"ADM1\").\n",
    "\n",
    "    Returns:\n",
    "        geopandas.GeoDataFrame: GeoDataFrame containing the downloaded boundaries.\n",
    "    \"\"\"\n",
    "    # URL template for GeoBoundaries API\n",
    "    url_template = f\"https://www.geoboundaries.org/api/current/gbOpen/{country_iso}/ADM{level}/\"\n",
    "\n",
    "    # Download the GeoJSON file\n",
    "    response = requests.get(url_template)\n",
    "    if response.status_code != 200:\n",
    "        raise Exception(f\"Failed to download GeoJSON for {country_iso} at level {level}. Status code: {response.status_code}\")\n",
    "    \n",
    "    path_geojson = json.loads(response.content)[\"gjDownloadURL\"]\n",
    "\n",
    "    # Load the GeoJSON content into a GeoDataFrame\n",
    "    gdf = gpd.read_file(path_geojson)\n",
    "\n",
    "    gdf[\"GID_0\"] = country_iso\n",
    "    for l in range(level):\n",
    "        gdf[f\"GID_{l+1}\"] = gdf[f\"GID_{l}\"] + \".\" + gdf.index.astype(str)\n",
    "\n",
    "    print(f\"GeoJSON boundary for {country_iso} (level {level}) loaded into memory\")\n",
    "    return gdf\n",
    "\n",
    "def create_combined_gpkg(layers, country_iso, output_file=\"boundaries.gpkg\"):\n",
    "    \"\"\"\n",
    "    Create a GPKG file with combined ADM0 and ADM1 boundaries for a given country ISO code.\n",
    "\n",
    "    Parameters:\n",
    "        country_iso (str): The ISO code of the country to download boundaries for.\n",
    "        output_file (str): Path to the output GPKG file.\n",
    "\n",
    "    Returns:\n",
    "        None\n",
    "    \"\"\"\n",
    "    for layer in layers:\n",
    "        gdfl = download_geoboundaries(country_iso, layer)\n",
    "        gdfl.to_file(output_file, layer=f\"ADM_ADM_{layer}\", driver=\"GPKG\")\n",
    "\n",
    "    print(f\"GPKG file created with combined boundaries at {output_file}\")\n",
    "\n",
    "# Example usage\n",
    "if __name__ == \"__main__\":\n",
    "    country_iso = \"BWA\"  # Replace with your desired country ISO code\n",
    "    output_file = f\"gadm41_{country_iso}.gpkg\"  # Replace with your desired output file name\n",
    "\n",
    "    create_combined_gpkg([0,1], country_iso, output_file)"
   ]
  },
  {
   "cell_type": "code",
   "execution_count": null,
   "metadata": {},
   "outputs": [
    {
     "ename": "",
     "evalue": "",
     "output_type": "error",
     "traceback": [
      "\u001b[1;31mnotebook controller is DISPOSED. \n",
      "\u001b[1;31mView Jupyter <a href='command:jupyter.viewOutput'>log</a> for further details."
     ]
    },
    {
     "ename": "",
     "evalue": "",
     "output_type": "error",
     "traceback": [
      "\u001b[1;31mnotebook controller is DISPOSED. \n",
      "\u001b[1;31mView Jupyter <a href='command:jupyter.viewOutput'>log</a> for further details."
     ]
    },
    {
     "ename": "",
     "evalue": "",
     "output_type": "error",
     "traceback": [
      "\u001b[1;31mnotebook controller is DISPOSED. \n",
      "\u001b[1;31mView Jupyter <a href='command:jupyter.viewOutput'>log</a> for further details."
     ]
    }
   ],
   "source": [
    "url_template = f\"https://www.geoboundaries.org/api/current/gbOpen/NGA/ADM1/\"\n",
    "\n",
    "# Download the GeoJSON file\n",
    "response = requests.get(url_template)\n",
    "\n",
    "path_geojson = json.loads(response.content)[\"gjDownloadURL\"]\n",
    "\n",
    "# Load the GeoJSON content into a GeoDataFrame\n",
    "gdf = gpd.read_file(path_geojson)"
   ]
  }
 ],
 "metadata": {
  "kernelspec": {
   "display_name": "pypsa-earth",
   "language": "python",
   "name": "python3"
  },
  "language_info": {
   "codemirror_mode": {
    "name": "ipython",
    "version": 3
   },
   "file_extension": ".py",
   "mimetype": "text/x-python",
   "name": "python",
   "nbconvert_exporter": "python",
   "pygments_lexer": "ipython3",
   "version": "3.10.15"
  }
 },
 "nbformat": 4,
 "nbformat_minor": 2
}
